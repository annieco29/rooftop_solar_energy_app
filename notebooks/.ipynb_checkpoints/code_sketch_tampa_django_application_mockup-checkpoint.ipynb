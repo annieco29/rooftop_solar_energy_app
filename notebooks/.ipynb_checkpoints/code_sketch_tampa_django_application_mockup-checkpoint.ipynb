{
 "cells": [
  {
   "cell_type": "markdown",
   "id": "9ad5d987-c331-4dcf-a15b-4f1d5353f40a",
   "metadata": {},
   "source": [
    "## Set up data flow, model scoring, and front end viz"
   ]
  },
  {
   "cell_type": "markdown",
   "id": "342c67c7-12e3-4540-8364-edfb8ec0fce4",
   "metadata": {},
   "source": [
    "1. Ingest data (Tampa Weather data for 2019)."
   ]
  },
  {
   "cell_type": "markdown",
   "id": "55e76122-7cc1-4ef4-9f0b-07781c2cbd8f",
   "metadata": {},
   "source": [
    "2. Score data using model. Output will be a prediction of energy demand for the Tampa area by day."
   ]
  },
  {
   "cell_type": "markdown",
   "id": "18a7f7c8-2b80-48df-9870-fe9b71841b99",
   "metadata": {},
   "source": [
    "3. Map created through Django/Streamlit shows Tampa area with drop down to select date. Color of map corresponds with the amount of energy demanded."
   ]
  },
  {
   "cell_type": "markdown",
   "id": "a13a1cd3-de69-4185-9823-540dac2d1e35",
   "metadata": {},
   "source": [
    "4. Scripts needed:\n",
    "    - Ingest/score data.\n",
    "    - Pull in scored data. Map and dashboard."
   ]
  },
  {
   "cell_type": "code",
   "execution_count": null,
   "id": "d1f1cd05-d95b-4f08-b46e-9c296e837d7f",
   "metadata": {},
   "outputs": [],
   "source": []
  }
 ],
 "metadata": {
  "kernelspec": {
   "display_name": "Python 3",
   "language": "python",
   "name": "python3"
  },
  "language_info": {
   "codemirror_mode": {
    "name": "ipython",
    "version": 3
   },
   "file_extension": ".py",
   "mimetype": "text/x-python",
   "name": "python",
   "nbconvert_exporter": "python",
   "pygments_lexer": "ipython3",
   "version": "3.7.7"
  }
 },
 "nbformat": 4,
 "nbformat_minor": 5
}
