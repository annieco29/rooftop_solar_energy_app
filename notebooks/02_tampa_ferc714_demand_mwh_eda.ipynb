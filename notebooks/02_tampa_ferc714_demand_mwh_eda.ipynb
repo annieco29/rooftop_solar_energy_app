{
 "cells": [
  {
   "cell_type": "code",
   "execution_count": 1,
   "id": "767bad45-90c5-44cc-8922-d67ac392e199",
   "metadata": {},
   "outputs": [
    {
     "data": {
      "text/html": [
       "        <script type=\"text/javascript\">\n",
       "        window.PlotlyConfig = {MathJaxConfig: 'local'};\n",
       "        if (window.MathJax) {MathJax.Hub.Config({SVG: {font: \"STIX-Web\"}});}\n",
       "        if (typeof require !== 'undefined') {\n",
       "        require.undef(\"plotly\");\n",
       "        requirejs.config({\n",
       "            paths: {\n",
       "                'plotly': ['https://cdn.plot.ly/plotly-latest.min']\n",
       "            }\n",
       "        });\n",
       "        require(['plotly'], function(Plotly) {\n",
       "            window._Plotly = Plotly;\n",
       "        });\n",
       "        }\n",
       "        </script>\n",
       "        "
      ]
     },
     "metadata": {},
     "output_type": "display_data"
    },
    {
     "name": "stdout",
     "output_type": "stream",
     "text": [
      "/Users/anniecondon/Documents/hackathon/climate_change_hackathon.nosync/notebooks\n"
     ]
    }
   ],
   "source": [
    "import pandas as pd\n",
    "import numpy as np\n",
    "import pandas_profiling as pp\n",
    "pd.set_option('display.max_columns', 50)\n",
    "pd.set_option('display.float_format', lambda x: '%.3f' % x)\n",
    "\n",
    "from IPython.display import display\n",
    "\n",
    "# for date manipulation\n",
    "from datetime import datetime\n",
    "\n",
    "# for visualization: matplotlib\n",
    "from matplotlib import pyplot as plt\n",
    "from IPython.core.pylabtools import figsize\n",
    "%matplotlib inline\n",
    "# to display visuals in the notebook\n",
    "\n",
    "# for visualization: seaborn\n",
    "import seaborn as sns\n",
    "sns.set_context(font_scale=2)\n",
    "\n",
    "# for visualization: plotly\n",
    "import plotly.offline as py\n",
    "py.init_notebook_mode(connected=True)\n",
    "import plotly.graph_objects as go\n",
    "import plotly.express as px\n",
    "import plotly.figure_factory as ff\n",
    "from plotly.subplots import make_subplots\n",
    "from plotly.offline import iplot\n",
    "\n",
    "# to cleanup memory usage\n",
    "import gc\n",
    "\n",
    "# Input data files are available in the \"../input/\" directory.\n",
    "# For example, running this (by clicking run or pressing Shift+Enter) will list all files under the input directory\n",
    "\n",
    "import os\n",
    "from os import path\n",
    "home = path.abspath(path.join(\"__file__\",\"..\"))\n",
    "print(home)\n",
    "\n",
    "# Any results you write to the current directory are saved as output.b"
   ]
  },
  {
   "cell_type": "code",
   "execution_count": 2,
   "id": "2c4ee662-40d7-4cd8-a02e-cad431570247",
   "metadata": {},
   "outputs": [],
   "source": [
    "ferc714_hourly_demand_tampa = pd.read_csv(home + '/tampa_electric_co_demand_hourly.csv')"
   ]
  },
  {
   "cell_type": "code",
   "execution_count": 3,
   "id": "8179c98d-bd39-499d-90ec-27bc9f81f038",
   "metadata": {},
   "outputs": [
    {
     "data": {
      "text/html": [
       "<div>\n",
       "<style scoped>\n",
       "    .dataframe tbody tr th:only-of-type {\n",
       "        vertical-align: middle;\n",
       "    }\n",
       "\n",
       "    .dataframe tbody tr th {\n",
       "        vertical-align: top;\n",
       "    }\n",
       "\n",
       "    .dataframe thead th {\n",
       "        text-align: right;\n",
       "    }\n",
       "</style>\n",
       "<table border=\"1\" class=\"dataframe\">\n",
       "  <thead>\n",
       "    <tr style=\"text-align: right;\">\n",
       "      <th></th>\n",
       "      <th>Unnamed: 0</th>\n",
       "      <th>respondent_id_ferc714</th>\n",
       "      <th>report_date</th>\n",
       "      <th>utc_datetime</th>\n",
       "      <th>timezone</th>\n",
       "      <th>demand_mwh</th>\n",
       "    </tr>\n",
       "  </thead>\n",
       "  <tbody>\n",
       "    <tr>\n",
       "      <th>0</th>\n",
       "      <td>546413</td>\n",
       "      <td>262</td>\n",
       "      <td>2017-01-01 00:00:00</td>\n",
       "      <td>2017-01-01 05:00:00</td>\n",
       "      <td>America/New_York</td>\n",
       "      <td>1549.000</td>\n",
       "    </tr>\n",
       "    <tr>\n",
       "      <th>1</th>\n",
       "      <td>1166556</td>\n",
       "      <td>262</td>\n",
       "      <td>2017-01-01 00:00:00</td>\n",
       "      <td>2017-01-01 06:00:00</td>\n",
       "      <td>America/New_York</td>\n",
       "      <td>1492.000</td>\n",
       "    </tr>\n",
       "    <tr>\n",
       "      <th>2</th>\n",
       "      <td>1786699</td>\n",
       "      <td>262</td>\n",
       "      <td>2017-01-01 00:00:00</td>\n",
       "      <td>2017-01-01 07:00:00</td>\n",
       "      <td>America/New_York</td>\n",
       "      <td>1424.000</td>\n",
       "    </tr>\n",
       "    <tr>\n",
       "      <th>3</th>\n",
       "      <td>2406842</td>\n",
       "      <td>262</td>\n",
       "      <td>2017-01-01 00:00:00</td>\n",
       "      <td>2017-01-01 08:00:00</td>\n",
       "      <td>America/New_York</td>\n",
       "      <td>1402.000</td>\n",
       "    </tr>\n",
       "    <tr>\n",
       "      <th>4</th>\n",
       "      <td>3026985</td>\n",
       "      <td>262</td>\n",
       "      <td>2017-01-01 00:00:00</td>\n",
       "      <td>2017-01-01 09:00:00</td>\n",
       "      <td>America/New_York</td>\n",
       "      <td>1390.000</td>\n",
       "    </tr>\n",
       "  </tbody>\n",
       "</table>\n",
       "</div>"
      ],
      "text/plain": [
       "   Unnamed: 0  respondent_id_ferc714          report_date  \\\n",
       "0      546413                    262  2017-01-01 00:00:00   \n",
       "1     1166556                    262  2017-01-01 00:00:00   \n",
       "2     1786699                    262  2017-01-01 00:00:00   \n",
       "3     2406842                    262  2017-01-01 00:00:00   \n",
       "4     3026985                    262  2017-01-01 00:00:00   \n",
       "\n",
       "          utc_datetime          timezone  demand_mwh  \n",
       "0  2017-01-01 05:00:00  America/New_York    1549.000  \n",
       "1  2017-01-01 06:00:00  America/New_York    1492.000  \n",
       "2  2017-01-01 07:00:00  America/New_York    1424.000  \n",
       "3  2017-01-01 08:00:00  America/New_York    1402.000  \n",
       "4  2017-01-01 09:00:00  America/New_York    1390.000  "
      ]
     },
     "execution_count": 3,
     "metadata": {},
     "output_type": "execute_result"
    }
   ],
   "source": [
    "ferc714_hourly_demand_tampa.head()"
   ]
  },
  {
   "cell_type": "code",
   "execution_count": 6,
   "id": "f62f2bd6-40f9-4d3b-bf86-6740f4c85d1f",
   "metadata": {},
   "outputs": [
    {
     "name": "stderr",
     "output_type": "stream",
     "text": [
      "/Users/anniecondon/anaconda3/envs/discovery/lib/python3.7/site-packages/seaborn/distributions.py:2557: FutureWarning:\n",
      "\n",
      "`distplot` is a deprecated function and will be removed in a future version. Please adapt your code to use either `displot` (a figure-level function with similar flexibility) or `histplot` (an axes-level function for histograms).\n",
      "\n"
     ]
    },
    {
     "data": {
      "text/plain": [
       "<matplotlib.legend.Legend at 0x7f9d52b3ae90>"
      ]
     },
     "execution_count": 6,
     "metadata": {},
     "output_type": "execute_result"
    },
    {
     "data": {
      "image/png": "[encoded data removed]",
      "text/plain": [
       "<Figure size 864x720 with 1 Axes>"
      ]
     },
     "metadata": {
      "needs_background": "light"
     },
     "output_type": "display_data"
    }
   ],
   "source": [
    "# set the plot size\n",
    "figsize(12,10)\n",
    "\n",
    "# set the histogram, mean and median\n",
    "sns.distplot(ferc714_hourly_demand_tampa['demand_mwh'],\n",
    "             kde=True)\n",
    "plt.axvline(x=ferc714_hourly_demand_tampa.demand_mwh.mean(), \n",
    "            linewidth=3, color='g', label=\"mean\", alpha=0.5)\n",
    "plt.axvline(x=ferc714_hourly_demand_tampa.demand_mwh.median(), \n",
    "            linewidth=3, color='y', label=\"median\", alpha=0.5)\n",
    "\n",
    "# set title, legends and labels\n",
    "plt.title(\"Distribution of Meter Reading\", size=14)\n",
    "plt.legend([\"mean\", \"median\"])"
   ]
  },
  {
   "cell_type": "code",
   "execution_count": null,
   "id": "a921d7cd-3bb0-4294-b08e-fcd957d38dd7",
   "metadata": {},
   "outputs": [],
   "source": []
  }
 ],
 "metadata": {
  "kernelspec": {
   "display_name": "Python 3 (ipykernel)",
   "language": "python",
   "name": "python3"
  },
  "language_info": {
   "codemirror_mode": {
    "name": "ipython",
    "version": 3
   },
   "file_extension": ".py",
   "mimetype": "text/x-python",
   "name": "python",
   "nbconvert_exporter": "python",
   "pygments_lexer": "ipython3",
   "version": "3.9.7"
  }
 },
 "nbformat": 4,
 "nbformat_minor": 5
}
