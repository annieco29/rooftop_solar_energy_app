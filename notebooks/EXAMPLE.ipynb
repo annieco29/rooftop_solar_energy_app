{
 "cells": [
  {
   "cell_type": "markdown",
   "metadata": {
    "tags": []
   },
   "source": [
    "# Energy Demand Analysis\n",
    "\n",
    "This notebook is a work in progress EDA of energy demand for the [Hourly Energy Demand, Generation And Weather Dataset](https://www.kaggle.com/nicholasjhana/energy-consumption-generation-prices-and-weather). In its current form it breaks down trends in the demand data at yearly, monthly, and interweek timescales.\n",
    "\n",
    "Questions for further development and exploration:\n",
    "- are energy consumers (retail & industrial) adjusting consumption based on variable energy price?\n",
    "- do weather features such as temperature, humidity, rainfall etc correlate to energy demand?\n",
    "    - [Some inspiration in this notebook](https://www.kaggle.com/dimitriosroussis/eda-cleaning-visualizations-ongoing-project/notebook)\n",
    "- is there a relationship between holidays, and vacation periods and consumption?\n",
    "- does the data suggest the influence of major industrial consumers is shaping demand?\n",
    "    - pulling data on indsutry breakdown and industrial vs retail consumers could help here (if available)\n",
    "    \n",
    "In the current version the notebook contains\n",
    "1. Inital descrption and Distribution\n",
    "2. Yearly Breakdowns\n",
    "    1. yearly consumption profiles\n",
    "    2. mean load per hour\n",
    "    3. load curves 2015-2018\n",
    "    4. box plot load and consumption\n",
    "3. Monthly Breakdowns\n",
    "    1. monthly average consumption profiles\n",
    "    2. monthly mean load per hour\n",
    "    3. average monthly load curve\n",
    "    4. box plot load and consumption\n",
    "4. Interweek breakdowns\n",
    "    1. Interweek average load by hour\n",
    "    2. daily load average box plots"
   ]
  },
  {
   "cell_type": "code",
   "execution_count": null,
   "metadata": {
    "_cell_guid": "b1076dfc-b9ad-4769-8c92-a6c4dae69d19",
    "_uuid": "8f2839f25d086af736a60e9eeb907d3b93b6e0e5"
   },
   "outputs": [],
   "source": [
    "#import packages\n",
    "import pandas as pd\n",
    "import numpy as np\n",
    "import matplotlib.pyplot as plt\n",
    "import seaborn as sns\n",
    "%matplotlib inline\n",
    "sns.set_style('dark')\n",
    "\n",
    "# import statsmodels.api as sm\n",
    "# from shutil import copyfile\n",
    "\n",
    "# # copy our file into the working directory (make sure it has .py suffix)\n",
    "# copyfile(src = \"../input/demandanalysishelperfunctions/features_preprocessing.py\", \n",
    "#          dst = \"../working/features_preprocessing.py\")\n",
    "\n",
    "# #import features_preprocessing\n",
    "# import features_preprocessing\n",
    "\n",
    "\n",
    "#import the dataset\n",
    "data = pd.read_csv('/kaggle/input/energy-consumption-generation-prices-and-weather/energy_dataset.csv',\n",
    "                   index_col=0,\n",
    "                   parse_dates=[0])\n",
    "\n",
    "#set the index to datetime\n",
    "data.index = pd.to_datetime(data.index, utc=True)\n",
    "#analyze 2015 to 2018 data inclusive\n",
    "data = data['2015':'2018']\n",
    "print(data.columns)"
   ]
  },
  {
   "cell_type": "markdown",
   "metadata": {},
   "source": [
    "### Inital descprtion\n",
    "\n",
    "Isolate only the actual demand and the TSO's 1 day advance forecasted demand."
   ]
  },
  {
   "cell_type": "code",
   "execution_count": null,
   "metadata": {
    "_cell_guid": "79c7e3d0-c299-4dcb-8224-4455121ee9b0",
    "_uuid": "d629ff2d2480ee46fbb7e2d37f6b5fab8052498a"
   },
   "outputs": [],
   "source": [
    "load = data['total load actual']\n",
    "forecast = data['total load forecast']\n",
    "load.head(), forecast.head()"
   ]
  },
  {
   "cell_type": "code",
   "execution_count": null,
   "metadata": {},
   "outputs": [],
   "source": [
    "df_demand = pd.concat([load, forecast], axis=1)\n",
    "df_demand.columns = ['load', 'forecast']\n",
    "df_demand.describe()"
   ]
  },
  {
   "cell_type": "code",
   "execution_count": null,
   "metadata": {},
   "outputs": [],
   "source": [
    "fig, ax = plt.subplots(figsize=(10, 6))\n",
    "sns.distplot(df_demand['load'].dropna(), ax=ax, kde=False).set_title('load', fontsize=16)\n",
    "sns.distplot(df_demand['forecast'].dropna(), ax=ax, kde=False).set_title('forecast', fontsize=16)\n",
    "plt.xlabel('MW Power', fontsize=15)\n",
    "plt.legend(['load', 'forecast'])\n",
    "ax.set_yticks(np.linspace(0, 1500, 9))\n",
    "plt.title('Distribution of energy demanded and TSO 1 day forecasts')\n",
    "plt.show()"
   ]
  },
  {
   "cell_type": "markdown",
   "metadata": {},
   "source": [
    "## Yearly Breakdowns"
   ]
  },
  {
   "cell_type": "markdown",
   "metadata": {},
   "source": [
    "### Yearly Consumption profiles"
   ]
  },
  {
   "cell_type": "code",
   "execution_count": null,
   "metadata": {},
   "outputs": [],
   "source": [
    "#group data by year\n",
    "groups = df_demand['load'].groupby(pd.Grouper(freq='A'))\n",
    "\n",
    "#set figure and axis\n",
    "fig, axs = plt.subplots(len(groups), 1, figsize=(15,15))\n",
    "\n",
    "\n",
    "for ax, (name, group) in zip(axs, groups):\n",
    "    \n",
    "    #plot the data\n",
    "    ax.plot(pd.Series(group.values))\n",
    "\n",
    "    ax.set_xlabel('Hour of Year')\n",
    "    ax.set_ylabel('Total Load')\n",
    "    ax.set_title(name.year)\n",
    "    plt.subplots_adjust(hspace=0.5)"
   ]
  },
  {
   "cell_type": "markdown",
   "metadata": {},
   "source": [
    "### Mean load per hour\n",
    "\n",
    "Have any demand cutting programmes come into effect in the country? I.e. demand response or energy savings insitatives?"
   ]
  },
  {
   "cell_type": "code",
   "execution_count": null,
   "metadata": {},
   "outputs": [],
   "source": [
    "group_hours = df_demand['load'].groupby(pd.Grouper(freq='D', how='mean'))\n",
    "\n",
    "fig, axs = plt.subplots(1,1, figsize=(8,7))\n",
    "\n",
    "year_demands = pd.DataFrame()\n",
    "    \n",
    "for name, group in group_hours:\n",
    "    year_demands[name.year] = pd.Series(group.values)\n",
    "    \n",
    "year_demands.plot(ax=axs)\n",
    "axs.set_xlabel('Hour of the day')\n",
    "axs.set_ylabel('Energy Demanded MWh')\n",
    "axs.set_title('Mean yearly energy demand by hour of the day ');"
   ]
  },
  {
   "cell_type": "markdown",
   "metadata": {},
   "source": [
    "### Load duration curve"
   ]
  },
  {
   "cell_type": "code",
   "execution_count": null,
   "metadata": {},
   "outputs": [],
   "source": [
    "#group data by year\n",
    "groups = df_demand['load'].groupby(pd.Grouper(freq='A'))\n",
    "\n",
    "#set figure and axis\n",
    "fig, axs = plt.subplots(1, 1, figsize=(8,5))\n",
    "\n",
    "\n",
    "for name, group in groups:\n",
    "    \n",
    "    sorted_load_count = pd.Series(group.values).sort_values(ascending=False).reset_index()\n",
    "    sorted_load_count.drop('index', axis=1, inplace=True)\n",
    "    #plot the data\n",
    "    axs.plot(sorted_load_count)\n",
    "    axs.set_xlabel('Cumulative Hours')\n",
    "    axs.set_ylabel('Total Load')\n",
    "    axs.set_title('Load Duration Curve 2015-2018')\n",
    "axs.legend(['2015', '2016', '2017', '2018'])"
   ]
  },
  {
   "cell_type": "markdown",
   "metadata": {},
   "source": [
    "### Box plots per year"
   ]
  },
  {
   "cell_type": "code",
   "execution_count": null,
   "metadata": {},
   "outputs": [],
   "source": [
    "fig, axs = plt.subplots(1, 2, figsize=(15,5))\n",
    "\n",
    "for ax, col in zip(axs, df_demand.columns):\n",
    "    groups = df_demand[col].groupby(pd.Grouper(freq='A'))\n",
    "\n",
    "    df = pd.DataFrame()\n",
    "\n",
    "    for name, group in groups:\n",
    "        df[name.year] = pd.Series(group.values)\n",
    "\n",
    "    df.boxplot(ax=ax)\n",
    "    ax.set_xlabel('Year')\n",
    "    ax.set_ylabel('Total Load')\n",
    "    ax.set_title(col)"
   ]
  },
  {
   "cell_type": "code",
   "execution_count": null,
   "metadata": {},
   "outputs": [],
   "source": [
    "fig, axs = plt.subplots(1, 1, figsize=(8,5))\n",
    "\n",
    "df = pd.DataFrame()\n",
    "\n",
    "groups = df_demand['load'].groupby(pd.Grouper(freq='A'))\n",
    "\n",
    "for name, group in groups:\n",
    "    df[name.year] = pd.Series(group.values)\n",
    "\n",
    "df.boxplot(ax=axs)\n",
    "axs.set_xlabel('Year')\n",
    "axs.set_ylabel('Total Load')\n",
    "axs.set_title('load')"
   ]
  },
  {
   "cell_type": "markdown",
   "metadata": {},
   "source": [
    "## Monthly Breakdown"
   ]
  },
  {
   "cell_type": "markdown",
   "metadata": {},
   "source": [
    "### Monthly average consumption 2015-2018"
   ]
  },
  {
   "cell_type": "code",
   "execution_count": null,
   "metadata": {},
   "outputs": [],
   "source": [
    "#group data by year\n",
    "groups = df_demand['load'].groupby(pd.Grouper(freq='M', how='mean'))\n",
    "\n",
    "fig, axs = plt.subplots(12, 1, figsize=(20,30))\n",
    "\n",
    "months=pd.DataFrame()\n",
    "\n",
    "for ax, (name, group) in zip(axs, groups):\n",
    "    months[name.month] = pd.Series(group.values)\n",
    "    ax.set_title('Month: ' + str(name.month))\n",
    "    \n",
    "months.plot(ax=axs, subplots=True, legend=False)\n",
    "plt.subplots_adjust(hspace=0.5)\n",
    "plt.show()\n"
   ]
  },
  {
   "cell_type": "markdown",
   "metadata": {},
   "source": [
    "### Monthly actual consumption\n",
    "Consumption of each month for each year of the dataset"
   ]
  },
  {
   "cell_type": "code",
   "execution_count": null,
   "metadata": {},
   "outputs": [],
   "source": [
    "#set figure and axis\n",
    "fig, axs = plt.subplots(len(groups), 1, figsize=(15,100))\n",
    "\n",
    "\n",
    "for ax, (name, group) in zip(axs, groups):\n",
    "    \n",
    "    #plot the data\n",
    "    ax.plot(pd.Series(group.values))\n",
    "\n",
    "    ax.set_xlabel('Hour of Year')\n",
    "    ax.set_ylabel('Total Load')\n",
    "    ax.set_title(\"Year: \" + str(name.year) + \" Month: \" + str(name.month))\n",
    "    plt.subplots_adjust(hspace=0.8)"
   ]
  },
  {
   "cell_type": "markdown",
   "metadata": {},
   "source": [
    "### Mean monthly demand by hour of the day"
   ]
  },
  {
   "cell_type": "code",
   "execution_count": null,
   "metadata": {},
   "outputs": [],
   "source": [
    "group_hours = df_demand['load'].groupby(pd.Grouper(freq='D', how='mean'))\n",
    "\n",
    "fig, axs = plt.subplots(1,1, figsize=(8,7))\n",
    "\n",
    "df = pd.DataFrame()\n",
    "    \n",
    "months = ['jan', 'feb', 'mar', 'apr', 'may', 'jun', 'jul', 'aug', 'sep', 'oct', 'nov', 'dec']    \n",
    "\n",
    "for name, group in group_hours:\n",
    "    df[name.month] = pd.Series(group.values)\n",
    "\n",
    "    \n",
    "colors = ['gray', 'lightcoral', 'firebrick', 'chocolate', 'darkorange', 'gold', 'olive', 'palegreen', 'teal', 'skyblue', 'blueviolet', 'purple']\n",
    "df.columns = months\n",
    "df.plot(ax=axs, color=colors)\n",
    "axs.set_xlabel('Hour of the day')\n",
    "axs.set_ylabel('Energy Demanded MWh')\n",
    "axs.set_title('Mean monthly energy demand by hour of the day');"
   ]
  },
  {
   "cell_type": "markdown",
   "metadata": {},
   "source": [
    "### Monthly average Load duration curves\n",
    "\n",
    "BUG: june and july curves?"
   ]
  },
  {
   "cell_type": "code",
   "execution_count": null,
   "metadata": {},
   "outputs": [],
   "source": [
    "#group data by year\n",
    "groups = df_demand['load'].groupby(pd.Grouper(freq='M', how='mean'))\n",
    "\n",
    "#set figure and axis\n",
    "fig, axs = plt.subplots(1, 1, figsize=(12,8))\n",
    "\n",
    "load_curve = pd.DataFrame()\n",
    "\n",
    "for name, group in groups:    \n",
    "    load_curve[name.month] = pd.Series(sorted(group.values, reverse=True))\n",
    "\n",
    "#plot the data\n",
    "axs.plot(load_curve)\n",
    "axs.set_xlabel('Cumulative Hours')\n",
    "axs.set_ylabel('Total Load')\n",
    "axs.set_title('Average Load Duration Curve Per Month')\n",
    "axs.legend(['jan', 'feb', 'mar', 'apr', 'may', 'jun', 'jul', 'aug', 'sep', 'oct', 'nov', 'dec'])"
   ]
  },
  {
   "cell_type": "markdown",
   "metadata": {},
   "source": [
    "### Monthly box plots"
   ]
  },
  {
   "cell_type": "code",
   "execution_count": null,
   "metadata": {},
   "outputs": [],
   "source": [
    "fig, axs = plt.subplots(1, 1,  figsize=(8,5))\n",
    "\n",
    "groups = df_demand['load'].groupby(pd.Grouper(freq='M'))\n",
    "\n",
    "df = pd.DataFrame()\n",
    "\n",
    "for name, group in groups:\n",
    "    df[name.month] = pd.Series(group.values)\n",
    "\n",
    "df.boxplot(ax=axs)\n",
    "axs.set_xlabel('Month Year')\n",
    "axs.set_ylabel('Energy Demanded MWh')\n",
    "axs.set_title('Box plot month of year 2015-2018')\n",
    "plt.subplots_adjust(hspace=0.5)\n",
    "\n",
    "\n",
    "plt.show()"
   ]
  },
  {
   "cell_type": "markdown",
   "metadata": {},
   "source": [
    "## Interweak breakdown"
   ]
  },
  {
   "cell_type": "markdown",
   "metadata": {},
   "source": [
    "### Interweak demand by hour of the day"
   ]
  },
  {
   "cell_type": "code",
   "execution_count": null,
   "metadata": {},
   "outputs": [],
   "source": [
    "group_hours = df_demand['load'].groupby(pd.Grouper(freq='D', how='mean'))\n",
    "\n",
    "day_names = ['mon', 'tue', 'wed', 'thu', 'fri', 'sat', 'sun']\n",
    "\n",
    "fig, axs = plt.subplots(1,1, figsize=(8,7))\n",
    "\n",
    "df = pd.DataFrame()\n",
    "    \n",
    "for name, group in group_hours:\n",
    "    df[name.dayofweek] = pd.Series(group.values)\n",
    "df = df.reindex(sorted(df.columns), axis=1)\n",
    "df.columns = day_names\n",
    "df.plot(ax=axs)\n",
    "axs.set_xlabel('Hour of the day')\n",
    "axs.set_ylabel('Energy Demanded MWh')\n",
    "axs.set_title('Mean day of the week energy demand profile by hour of the day');"
   ]
  },
  {
   "cell_type": "markdown",
   "metadata": {},
   "source": [
    "### Day of the week box plots"
   ]
  },
  {
   "cell_type": "code",
   "execution_count": null,
   "metadata": {},
   "outputs": [],
   "source": [
    "fig, axs = plt.subplots(1, 1, figsize=(15,5))\n",
    "\n",
    "groups = df_demand['load'].groupby(pd.Grouper(freq='D'))\n",
    "\n",
    "df = pd.DataFrame()\n",
    "\n",
    "for name, group in groups:\n",
    "    df[name.dayofweek] = pd.Series(group.values)\n",
    "\n",
    "df = df.reindex(sorted(df.columns), axis=1)\n",
    "df.columns = ['mon', 'tue', 'wed', 'thu', 'fri','sat', 'sun']\n",
    "print(df.head())\n",
    "    \n",
    "df.boxplot(ax=axs)\n",
    "axs.set_xlabel('Day of the week')\n",
    "axs.set_ylabel('Energy Demanded MWh')\n",
    "axs.set_title('Box plot mean energy demand day of the week')\n",
    "plt.subplots_adjust(hspace=0.5)\n",
    "\n",
    "plt.show()"
   ]
  }
 ],
 "metadata": {
  "kernelspec": {
   "display_name": "Python 3",
   "language": "python",
   "name": "python3"
  },
  "language_info": {
   "codemirror_mode": {
    "name": "ipython",
    "version": 3
   },
   "file_extension": ".py",
   "mimetype": "text/x-python",
   "name": "python",
   "nbconvert_exporter": "python",
   "pygments_lexer": "ipython3",
   "version": "3.7.7"
  }
 },
 "nbformat": 4,
 "nbformat_minor": 4
}
