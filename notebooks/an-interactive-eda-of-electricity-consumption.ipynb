{
 "cells": [
  {
   "cell_type": "markdown",
   "metadata": {},
   "source": [
    "## Introduction\n",
    "\n",
    "Power is one of the most critical components of infrastructure crucial for the economic growth and welfare of nations. The existence and development of adequate infrastructure is essential for sustained growth of the Indian economy. India is the world's third largest producer and third largest consumer of electricity. Sustained economic growth continues to drive electricity demand in India.\n",
    "\n",
    "\n",
    "Consumption of electricity is known to follow economic activity closely. The industries that produce essential goods are operating at very low utilization levels. Hence, in such a scenario one expects electricity demands to go down.\n",
    "\n",
    "Here is a notebook to give you a brief intro of the dataset that I created, through interactive visualizations which will allow you to browse through data visually. The intension is to build an intuition about the data thereby being able to answer questions of relevance. The date ranges from 28/10/2019 to 23/05/2020.\n",
    "\n",
    "In this notebook I have put my hands on interactive plots which will enable anyone to browse the data with a few clicks. I hope you like it and get your hands on the dataset to build a notebook of your own. \n",
    "\n",
    "Do comment your suggestions and review of my work below. Hope you enjoy as much as I did while creating it. :)\n"
   ]
  },
  {
   "cell_type": "code",
   "execution_count": null,
   "metadata": {
    "_kg_hide-output": true
   },
   "outputs": [],
   "source": [
    "pip install bar_chart_race"
   ]
  },
  {
   "cell_type": "code",
   "execution_count": null,
   "metadata": {
    "_cell_guid": "79c7e3d0-c299-4dcb-8224-4455121ee9b0",
    "_uuid": "d629ff2d2480ee46fbb7e2d37f6b5fab8052498a"
   },
   "outputs": [],
   "source": [
    "import numpy as np\n",
    "import pandas as pd\n",
    "import matplotlib.pyplot as plt\n",
    "%matplotlib notebook\n",
    "import plotly.express as px\n",
    "import plotly.graph_objects as go\n",
    "import plotly.figure_factory as ff\n",
    "from IPython.display import HTML\n",
    "import calendar\n",
    "from plotly.subplots import make_subplots\n",
    "import bar_chart_race as bcr"
   ]
  },
  {
   "cell_type": "code",
   "execution_count": null,
   "metadata": {},
   "outputs": [],
   "source": [
    "df = pd.read_csv('../input/state-wise-power-consumption-in-india/power data.csv')\n",
    "df_long = pd.read_csv('../input/state-wise-power-consumption-in-india/long_data_.csv')"
   ]
  },
  {
   "cell_type": "code",
   "execution_count": null,
   "metadata": {
    "_kg_hide-output": true
   },
   "outputs": [],
   "source": [
    "df.info()"
   ]
  },
  {
   "cell_type": "code",
   "execution_count": null,
   "metadata": {},
   "outputs": [],
   "source": [
    "df['Date'] = pd.to_datetime(df.Date, dayfirst=True)\n",
    "df_long['Dates'] = pd.to_datetime(df_long.Dates, dayfirst=True)"
   ]
  },
  {
   "cell_type": "markdown",
   "metadata": {},
   "source": [
    "# Region Wise Daily Power Consumption"
   ]
  },
  {
   "cell_type": "code",
   "execution_count": null,
   "metadata": {
    "_kg_hide-input": true
   },
   "outputs": [],
   "source": [
    "df['NR'] = df['Punjab']+ df['Haryana']+ df['Rajasthan']+ df['Delhi']+df['UP']+df['Uttarakhand']+df['HP']+df['J&K']+df['Chandigarh']\n",
    "\n",
    "df['WR'] = df['Chhattisgarh']+df['Gujarat']+df['MP']+df['Maharashtra']+df['Goa']+df['DNH']\n",
    "\n",
    "df['SR'] = df['Andhra Pradesh']+df['Telangana']+df['Karnataka']+df['Kerala']+df['Tamil Nadu']+df['Pondy']\n",
    "\n",
    "df['ER'] = df['Bihar']+df['Jharkhand']+ df['Odisha']+df['West Bengal']+df['Sikkim']\n",
    "\n",
    "df['NER'] =df['Arunachal Pradesh']+df['Assam']+df['Manipur']+df['Meghalaya']+df['Mizoram']+df['Nagaland']+df['Tripura']"
   ]
  },
  {
   "cell_type": "code",
   "execution_count": null,
   "metadata": {
    "_kg_hide-input": true
   },
   "outputs": [],
   "source": [
    "fig = go.Figure()\n",
    "\n",
    "fig.add_trace(go.Scatter(\n",
    "    x=df.Date, y=df.NR,\n",
    "    mode='lines+markers',\n",
    "    name='Northern region',\n",
    "    marker=dict(\n",
    "            color='rgba(300, 50, 50, 0.8)',\n",
    "            size=5,\n",
    "            line=dict(\n",
    "                color='DarkSlateGrey',\n",
    "                width = 1\n",
    "                     )\n",
    "                )\n",
    "))\n",
    "\n",
    "fig.add_trace(go.Scatter(\n",
    "    x=df.Date, y=df.SR,\n",
    "    mode='lines+markers',\n",
    "    name='Southern Region',\n",
    "    marker=dict(\n",
    "            color='rgba(50, 300, 50, 0.8)',\n",
    "            size=5,\n",
    "            line=dict(\n",
    "                color='DarkSlateGrey',\n",
    "                width = 1\n",
    "                     )\n",
    "                )\n",
    "))\n",
    "\n",
    "fig.add_trace(go.Scatter(\n",
    "    x=df.Date, y=df.ER,\n",
    "    mode='lines+markers',\n",
    "    name='Eastern Region',\n",
    "    marker=dict(\n",
    "            color='rgba(50, 50, 300, 0.8)',\n",
    "            size=5,\n",
    "            line=dict(\n",
    "                color='DarkSlateGrey',\n",
    "                width = 1\n",
    "                     )\n",
    "                )\n",
    "))\n",
    "\n",
    "fig.add_trace(go.Scatter(\n",
    "    x=df.Date, y=df.WR,\n",
    "    mode='lines+markers',\n",
    "    name='Western Region',\n",
    "    marker=dict(\n",
    "            color='rgba(300, 100, 200, 0.8)',\n",
    "            size=5,\n",
    "            line=dict(\n",
    "                color='DarkSlateGrey',\n",
    "                width = 1\n",
    "                     )\n",
    "                )\n",
    "))\n",
    "\n",
    "fig.add_trace(go.Scatter(\n",
    "    x=df.Date, y=df.NER,\n",
    "    mode='lines+markers',\n",
    "    name='North-Eastern',\n",
    "    marker=dict(\n",
    "            color='rgba(100, 200, 300, 0.8)',\n",
    "            size=5,\n",
    "            line=dict(\n",
    "                color='DarkSlateGrey',\n",
    "                width = 1\n",
    "                     )\n",
    "                )\n",
    "))\n",
    "\n",
    "\n",
    "fig.update_xaxes(\n",
    "    rangeslider_visible=True,\n",
    "    rangeselector=dict(\n",
    "        buttons=list([\n",
    "            dict(count=1, label=\"1m\", step=\"month\", stepmode=\"backward\"),\n",
    "            dict(count=3, label=\"3m\", step=\"month\", stepmode=\"backward\"),\n",
    "            dict(count=6, label=\"6m\", step=\"month\", stepmode=\"backward\"),\n",
    "            dict(step=\"all\")\n",
    "        ])\n",
    "    )\n",
    ")\n",
    "\n",
    "fig.update_layout(title='Power Consumption in Various Region')\n",
    "fig.update_layout(width=800,height=500)\n",
    "fig.show()"
   ]
  },
  {
   "cell_type": "markdown",
   "metadata": {},
   "source": [
    "# State-wise mean Power consumption"
   ]
  },
  {
   "cell_type": "code",
   "execution_count": null,
   "metadata": {
    "_kg_hide-input": true,
    "collapsed": true,
    "jupyter": {
     "outputs_hidden": true
    }
   },
   "outputs": [],
   "source": [
    "df1= df[['Date', 'Punjab', 'Haryana', 'Rajasthan', 'Delhi', 'UP',\n",
    "       'Uttarakhand', 'HP', 'J&K', 'Chandigarh', 'Chhattisgarh', 'Gujarat',\n",
    "       'MP', 'Maharashtra', 'Goa', 'DNH', \n",
    "       'Andhra Pradesh', 'Telangana', 'Karnataka', 'Kerala', 'Tamil Nadu',\n",
    "       'Pondy', 'Bihar', 'Jharkhand', 'Odisha', 'West Bengal', 'Sikkim',\n",
    "       'Arunachal Pradesh', 'Assam', 'Manipur', 'Meghalaya', 'Mizoram',\n",
    "       'Nagaland', 'Tripura']]\n",
    "\n",
    "df1 = df1.set_index('Date')\n",
    "bcr.bar_chart_race(df1, figsize=(4, 3.5),period_length =500,filename = None, title='power usage by states')"
   ]
  },
  {
   "cell_type": "markdown",
   "metadata": {},
   "source": [
    "# Monthly average Power Consumption"
   ]
  },
  {
   "cell_type": "code",
   "execution_count": null,
   "metadata": {},
   "outputs": [],
   "source": [
    "monthly_df = df_long.groupby([df_long.Dates.dt.year, df_long.Dates.dt.month,df_long.States,df_long.Regions, df_long.latitude,df_long.longitude])['Usage'].mean()\n",
    "monthly_df.index = monthly_df.index.set_names(['year', 'month','State','Region','latitude','longitude'])\n",
    "monthly_df = monthly_df.reset_index()\n",
    "monthly_df['month'] = monthly_df['month'].apply(lambda x: calendar.month_abbr[x])"
   ]
  },
  {
   "cell_type": "code",
   "execution_count": null,
   "metadata": {},
   "outputs": [],
   "source": [
    "monthly_df.head()"
   ]
  },
  {
   "cell_type": "code",
   "execution_count": null,
   "metadata": {
    "_kg_hide-input": true
   },
   "outputs": [],
   "source": [
    "fig = px.sunburst(monthly_df, path=['Region', 'State','month'], values='Usage',\n",
    "                  color='Usage',\n",
    "                  color_continuous_scale='RdBu')\n",
    "fig.update_layout(title='Click various Regions/States to view power distribution')\n",
    "fig.update_layout( width=800,height=600)\n",
    "fig.show()"
   ]
  },
  {
   "cell_type": "code",
   "execution_count": null,
   "metadata": {},
   "outputs": [],
   "source": [
    "fig = px.bar(monthly_df, x=\"Region\", y=\"Usage\",color='State',animation_frame = 'month')\n",
    "fig.update_layout(xaxis={'categoryorder':'total descending'})\n",
    "fig.update_layout(title='Region-wise Bar plots')\n",
    "fig.show()"
   ]
  },
  {
   "cell_type": "markdown",
   "metadata": {},
   "source": [
    "# Before and After lockdown Scenarios"
   ]
  },
  {
   "cell_type": "code",
   "execution_count": null,
   "metadata": {},
   "outputs": [],
   "source": [
    "df_before = df.iloc[0:150,:]\n",
    "df_after = df.iloc[151:,]"
   ]
  },
  {
   "cell_type": "code",
   "execution_count": null,
   "metadata": {
    "_kg_hide-input": true
   },
   "outputs": [],
   "source": [
    "fig = go.Figure()\n",
    "fig.add_trace(go.Scatter( x=df_before['Date'], y=df_before['Gujarat'], name='Gujarat before lockdown',fill='tonexty',\n",
    "    line=dict(width=2,dash='dot',color='firebrick') \n",
    "))\n",
    "fig.add_trace(go.Scatter( x=df_before['Date'], y=df_before['Maharashtra'], name='Maharashtra before lockdown',fill='tonexty',\n",
    "    line=dict(width=2,dash='dot',color='coral')\n",
    "))\n",
    "\n",
    "fig.add_trace(go.Scatter( x=df_before['Date'], y=df_before['MP'], name='MP before lockdown',fill='tozeroy',\n",
    "    line=dict(width=2,dash='dot',color='darkred')\n",
    "))\n",
    "\n",
    "fig.add_trace(go.Scatter(x=df_after['Date'], y=df_after['Gujarat'],name='Gujarat after lockdown',fill='tozeroy',\n",
    "    line=dict(color='firebrick', width=2)\n",
    "))\n",
    "\n",
    "fig.add_trace(go.Scatter(x=df_after['Date'], y=df_after['Maharashtra'],name='Maharashtra after lockdown',fill='tozeroy',\n",
    "    line=dict(color='coral', width=2)\n",
    "))\n",
    "\n",
    "fig.add_trace(go.Scatter(x=df_after['Date'], y=df_after['MP'],name='MP after lockdown',fill='tozeroy',\n",
    "    line=dict(color='darkred', width=2)\n",
    "))\n",
    "\n",
    "fig.update_layout(title='Power Consumption in top 3 WR states')\n",
    "fig.update_layout( width=800,height=500)\n",
    "fig.show()"
   ]
  },
  {
   "cell_type": "code",
   "execution_count": null,
   "metadata": {
    "_kg_hide-input": true
   },
   "outputs": [],
   "source": [
    "fig = go.Figure()\n",
    "fig.add_trace(go.Scatter( x=df_before['Date'], y=df_before['Karnataka'], name='Karnataka before lockdown',fill='tonexty',\n",
    "    line=dict(width=2,dash='dot',color='skyblue') \n",
    "))\n",
    "fig.add_trace(go.Scatter( x=df_before['Date'], y=df_before['Tamil Nadu'], name='Tamil Nadu before lockdown',fill='tonexty',\n",
    "    line=dict(width=2,dash='dot',color='lightblue')\n",
    "))\n",
    "\n",
    "fig.add_trace(go.Scatter( x=df_before['Date'], y=df_before['Telangana'], name='Telangana before lockdown',fill='tozeroy',\n",
    "    line=dict(width=2,dash='dot',color='midnightblue')\n",
    "))\n",
    "\n",
    "fig.add_trace(go.Scatter(x=df_after['Date'], y=df_after['Karnataka'],name='Karnataka after lockdown',fill='tozeroy',\n",
    "    line=dict(color='skyblue', width=2)\n",
    "))\n",
    "\n",
    "fig.add_trace(go.Scatter(x=df_after['Date'], y=df_after['Tamil Nadu'],name='Tamil Nadu after lockdown',fill='tozeroy',\n",
    "    line=dict(color='lightblue', width=2)\n",
    "))\n",
    "\n",
    "fig.add_trace(go.Scatter(x=df_after['Date'], y=df_after['Telangana'],name='Telangana after lockdown',fill='tozeroy',\n",
    "    line=dict(color='midnightblue', width=2)\n",
    "))\n",
    "\n",
    "fig.update_layout(title='Power Consumption in top 3 WR states')\n",
    "fig.update_layout( width=800,height=500)\n",
    "fig.show()"
   ]
  },
  {
   "cell_type": "code",
   "execution_count": null,
   "metadata": {
    "_kg_hide-input": true
   },
   "outputs": [],
   "source": [
    "fig = go.Figure()\n",
    "fig.add_trace(go.Scatter( x=df_before['Date'], y=df_before['Rajasthan'], name='Rajasthan before lockdown',fill='tonexty',\n",
    "    line=dict(width=2,dash='dot',color='darkviolet') \n",
    "))\n",
    "\n",
    "fig.add_trace(go.Scatter( x=df_before['Date'], y=df_before['UP'], name='UP before lockdown',fill='tonexty',\n",
    "    line=dict(width=2,dash='dot',color='deeppink')\n",
    "))\n",
    "\n",
    "\n",
    "fig.add_trace(go.Scatter( x=df_before['Date'], y=df_before['Haryana'], name='Haryana before lockdown',fill='tozeroy',\n",
    "    line=dict(width=2,dash='dot',color='indigo')\n",
    "))\n",
    "\n",
    "fig.add_trace(go.Scatter(x=df_after['Date'], y=df_after['Rajasthan'],name='Rajasthan after lockdown',fill='tozeroy',\n",
    "    line=dict(color='darkviolet', width=2)\n",
    "))\n",
    "\n",
    "fig.add_trace(go.Scatter(x=df_after['Date'], y=df_after['UP'],name='UP after lockdown',fill='tonexty',\n",
    "    line=dict(color='deeppink', width=2)\n",
    "))\n",
    "\n",
    "\n",
    "fig.add_trace(go.Scatter(x=df_after['Date'], y=df_after['Haryana'],name='Haryana after lockdown',fill='tozeroy',\n",
    "    line=dict(color='indigo', width=2)\n",
    "))\n",
    "\n",
    "fig.update_layout(title='Power Consumption in top 3 NR states')\n",
    "fig.update_layout( width=800,height=500)\n",
    "fig.show()"
   ]
  },
  {
   "cell_type": "markdown",
   "metadata": {},
   "source": [
    "# Maximum value reached"
   ]
  },
  {
   "cell_type": "code",
   "execution_count": null,
   "metadata": {
    "_kg_hide-input": true
   },
   "outputs": [],
   "source": [
    "WR_df = df_long[df_long['Regions']=='WR']\n",
    "NR_df = df_long[df_long['Regions']=='NR']\n",
    "SR_df = df_long[df_long['Regions']=='SR']\n",
    "ER_df = df_long[df_long['Regions']=='ER']\n",
    "NER_df = df_long[df_long['Regions']=='NER']"
   ]
  },
  {
   "cell_type": "code",
   "execution_count": null,
   "metadata": {
    "_kg_hide-input": true
   },
   "outputs": [],
   "source": [
    "    \n",
    "fig= go.Figure(go.Indicator(\n",
    "    mode = \"gauge+number\",\n",
    "    value = WR_df['Usage'].max(),\n",
    "    title = {'text': \"Max Power Usage In WR:Maharashtra 13/05/2020\"},\n",
    "    gauge = {\n",
    "        'axis': {'range': [None, 500], 'tickwidth': 1},\n",
    "        'threshold': {\n",
    "            'line': {'color': \"red\", 'width': 4},\n",
    "            'thickness': 0.75,\n",
    "            'value': 490}}\n",
    "))\n",
    "\n",
    "fig.show()"
   ]
  },
  {
   "cell_type": "code",
   "execution_count": null,
   "metadata": {
    "_kg_hide-input": true
   },
   "outputs": [],
   "source": [
    "fig = go.Figure(go.Indicator(\n",
    "    mode = \"gauge+number\",\n",
    "    value = NR_df['Usage'].max(),\n",
    "    title = {'text': \"Max Power Usage In NR :UP 09/05/2020\"},\n",
    "    gauge = {\n",
    "        'axis': {'range': [None, 500], 'tickwidth': 1},\n",
    "        'threshold': {\n",
    "            'line': {'color': \"red\", 'width': 4},\n",
    "            'thickness': 0.75,\n",
    "            'value': 490}}\n",
    "))\n",
    "fig.update_layout(legend_title_text='State   Date::UP')\n",
    "fig.show()"
   ]
  },
  {
   "cell_type": "code",
   "execution_count": null,
   "metadata": {
    "_kg_hide-input": true
   },
   "outputs": [],
   "source": [
    "fig = go.Figure(go.Indicator(\n",
    "    mode = \"gauge+number\",\n",
    "    value = SR_df['Usage'].max(),\n",
    "    title = {'text': \"Max Power Usage In SR : Tamil Nadu  01/11/2019\"},\n",
    "    gauge = {\n",
    "        'axis': {'range': [None, 500], 'tickwidth': 1},\n",
    "        'threshold': {\n",
    "            'line': {'color': \"red\", 'width': 4},\n",
    "            'thickness': 0.75,\n",
    "            'value': 490}}\n",
    "))\n",
    "\n",
    "fig.show()"
   ]
  },
  {
   "cell_type": "code",
   "execution_count": null,
   "metadata": {
    "_kg_hide-input": true
   },
   "outputs": [],
   "source": [
    "fig = go.Figure(go.Indicator(\n",
    "    mode = \"gauge+number\",\n",
    "    value = ER_df['Usage'].max(),\n",
    "    title = {'text': \"Max Power Usage In ER: West Bangal 04/05/2020\"},\n",
    "    gauge = {\n",
    "        'axis': {'range': [None, 500], 'tickwidth': 1},\n",
    "        'threshold': {\n",
    "            'line': {'color': \"red\", 'width': 4},\n",
    "            'thickness': 0.75,\n",
    "            'value': 490}}\n",
    "))\n",
    "\n",
    "fig.show()"
   ]
  },
  {
   "cell_type": "code",
   "execution_count": null,
   "metadata": {
    "_kg_hide-input": true
   },
   "outputs": [],
   "source": [
    "fig = go.Figure(go.Indicator(\n",
    "    mode = \"gauge+number\",\n",
    "    value = NER_df['Usage'].max(),\n",
    "    title = {'text': \"Max Power Usage In NER: Assam 05/05/2020\"},\n",
    "    gauge = {\n",
    "        'axis': {'range': [None, 500], 'tickwidth': 1},\n",
    "        'threshold': {\n",
    "            'line': {'color': \"red\", 'width': 4},\n",
    "            'thickness': 0.75,\n",
    "            'value': 490}}\n",
    "))\n",
    "\n",
    "fig.show()"
   ]
  },
  {
   "cell_type": "markdown",
   "metadata": {},
   "source": [
    "# Plotting on maps"
   ]
  },
  {
   "cell_type": "code",
   "execution_count": null,
   "metadata": {},
   "outputs": [],
   "source": [
    "df_long = pd.read_csv('../input/state-wise-power-consumption-in-india/long_data_.csv')\n",
    "df_long.dropna(inplace = True)"
   ]
  },
  {
   "cell_type": "code",
   "execution_count": null,
   "metadata": {},
   "outputs": [],
   "source": [
    "fig = px.scatter_geo(df_long,'latitude','longitude', color=\"Regions\",\n",
    "                     hover_name=\"States\", size=\"Usage\",\n",
    "                     animation_frame=\"Dates\", scope='asia')\n",
    "fig.update_geos(lataxis_range=[5,35], lonaxis_range=[65, 100])\n",
    "fig.show()"
   ]
  },
  {
   "cell_type": "code",
   "execution_count": null,
   "metadata": {},
   "outputs": [],
   "source": []
  }
 ],
 "metadata": {
  "kernelspec": {
   "display_name": "Python 3 (ipykernel)",
   "language": "python",
   "name": "python3"
  },
  "language_info": {
   "codemirror_mode": {
    "name": "ipython",
    "version": 3
   },
   "file_extension": ".py",
   "mimetype": "text/x-python",
   "name": "python",
   "nbconvert_exporter": "python",
   "pygments_lexer": "ipython3",
   "version": "3.9.7"
  }
 },
 "nbformat": 4,
 "nbformat_minor": 4
}
